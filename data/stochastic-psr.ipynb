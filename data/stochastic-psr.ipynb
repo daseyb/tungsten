{
 "cells": [
  {
   "cell_type": "code",
   "execution_count": 1,
   "metadata": {},
   "outputs": [
    {
     "ename": "ImportError",
     "evalue": "cannot import name 'random_points_on_polyline' from 'gpytoolbox.poisson_surface_reconstruction' (d:\\miniconda\\envs\\research\\lib\\site-packages\\gpytoolbox\\poisson_surface_reconstruction.py)",
     "output_type": "error",
     "traceback": [
      "\u001b[1;31m---------------------------------------------------------------------------\u001b[0m",
      "\u001b[1;31mImportError\u001b[0m                               Traceback (most recent call last)",
      "\u001b[1;32mc:\\dev\\tungsten\\data\\stochastic-psr.ipynb Cell 1\u001b[0m line \u001b[0;36m4\n\u001b[0;32m      <a href='vscode-notebook-cell:/c%3A/dev/tungsten/data/stochastic-psr.ipynb#W0sZmlsZQ%3D%3D?line=1'>2</a>\u001b[0m \u001b[39mimport\u001b[39;00m \u001b[39mmatplotlib\u001b[39;00m\u001b[39m.\u001b[39;00m\u001b[39mpyplot\u001b[39;00m \u001b[39mas\u001b[39;00m \u001b[39mplt\u001b[39;00m\n\u001b[0;32m      <a href='vscode-notebook-cell:/c%3A/dev/tungsten/data/stochastic-psr.ipynb#W0sZmlsZQ%3D%3D?line=2'>3</a>\u001b[0m \u001b[39mfrom\u001b[39;00m \u001b[39mmpl_toolkits\u001b[39;00m\u001b[39m.\u001b[39;00m\u001b[39maxes_grid1\u001b[39;00m \u001b[39mimport\u001b[39;00m make_axes_locatable\n\u001b[1;32m----> <a href='vscode-notebook-cell:/c%3A/dev/tungsten/data/stochastic-psr.ipynb#W0sZmlsZQ%3D%3D?line=3'>4</a>\u001b[0m \u001b[39mfrom\u001b[39;00m \u001b[39mgpytoolbox\u001b[39;00m\u001b[39m.\u001b[39;00m\u001b[39mpoisson_surface_reconstruction\u001b[39;00m \u001b[39mimport\u001b[39;00m poisson_surface_reconstruction, random_points_on_polyline, png2poly\n\u001b[0;32m      <a href='vscode-notebook-cell:/c%3A/dev/tungsten/data/stochastic-psr.ipynb#W0sZmlsZQ%3D%3D?line=4'>5</a>\u001b[0m \u001b[39mimport\u001b[39;00m \u001b[39mnumpy\u001b[39;00m \u001b[39mas\u001b[39;00m \u001b[39mnp\u001b[39;00m\n\u001b[0;32m      <a href='vscode-notebook-cell:/c%3A/dev/tungsten/data/stochastic-psr.ipynb#W0sZmlsZQ%3D%3D?line=6'>7</a>\u001b[0m \u001b[39m# Generate random points on a polyline\u001b[39;00m\n",
      "\u001b[1;31mImportError\u001b[0m: cannot import name 'random_points_on_polyline' from 'gpytoolbox.poisson_surface_reconstruction' (d:\\miniconda\\envs\\research\\lib\\site-packages\\gpytoolbox\\poisson_surface_reconstruction.py)"
     ]
    }
   ],
   "source": [
    "from scipy.stats import norm\n",
    "import matplotlib.pyplot as plt\n",
    "from mpl_toolkits.axes_grid1 import make_axes_locatable\n",
    "from gpytoolbox.poisson_surface_reconstruction import poisson_surface_reconstruction, random_points_on_polyline, png2poly\n",
    "import numpy as np\n",
    "\n",
    "# Generate random points on a polyline\n",
    "poly = gpytoolbox.png2poly(\"test/unit_tests_data/illustrator.png\")[0]\n",
    "poly = poly - np.min(poly)\n",
    "poly = poly/np.max(poly)\n",
    "poly = 0.5*poly + 0.25\n",
    "poly = 3*poly - 1.5\n",
    "num_samples = 40\n",
    "np.random.seed(2)\n",
    "EC = edge_indices(poly.shape[0],closed=False)\n",
    "P,I,_ = random_points_on_mesh(poly, EC, num_samples, return_indices=True)\n",
    "vecs = poly[EC[:,0],:] - poly[EC[:,1],:]\n",
    "vecs /= np.linalg.norm(vecs, axis=1)[:,None]\n",
    "J = np.array([[0., -1.], [1., 0.]])\n",
    "N = vecs @ J.T\n",
    "N = N[I,:]\n",
    "\n",
    "\n",
    "# Problem parameters\n",
    "gs = np.array([50,50])\n",
    "# Call to PSR\n",
    "scalar_mean, scalar_var, grid_vertices = gpytoolbox.poisson_surface_reconstruction(P,N,gs=gs,solve_subspace_dim=0,verbose=True)\n",
    "\n",
    "# The probability of each grid vertex being inside the shape \n",
    "prob_out = 1 - norm.cdf(scalar_mean,0,np.sqrt(scalar_var))\n",
    "\n",
    "gx = grid_vertices[0]\n",
    "gy = grid_vertices[1]\n",
    "\n",
    "# Plot mean and variance side by side with colormap\n",
    "fig, ax = plt.subplots(1,3)\n",
    "m0 = ax[0].pcolormesh(gx,gy,np.reshape(scalar_mean,gx.shape), cmap='RdBu',shading='gouraud', vmin=-np.max(np.abs(scalar_mean)), vmax=np.max(np.abs(scalar_mean)))\n",
    "ax[0].scatter(P[:,0],P[:,1],30 + 0*P[:,0])\n",
    "q0 = ax[0].quiver(P[:,0],P[:,1],N[:,0],N[:,1])\n",
    "ax[0].set_title('Mean')\n",
    "divider = make_axes_locatable(ax[0])\n",
    "cax = divider.append_axes('right', size='5%', pad=0.05)\n",
    "fig.colorbar(m0, cax=cax, orientation='vertical')\n",
    "\n",
    "m1 = ax[1].pcolormesh(gx,gy,np.reshape(np.sqrt(scalar_var),gx.shape), cmap='plasma',shading='gouraud')\n",
    "ax[1].scatter(P[:,0],P[:,1],30 + 0*P[:,0])\n",
    "q1 = ax[1].quiver(P[:,0],P[:,1],N[:,0],N[:,1])\n",
    "ax[1].set_title('Variance')\n",
    "divider = make_axes_locatable(ax[1])\n",
    "cax = divider.append_axes('right', size='5%', pad=0.05)\n",
    "fig.colorbar(m1, cax=cax, orientation='vertical')\n",
    "\n",
    "m2 = ax[2].pcolormesh(gx,gy,np.reshape(prob_out,gx.shape), cmap='viridis',shading='gouraud')\n",
    "ax[2].scatter(P[:,0],P[:,1],30 + 0*P[:,0])\n",
    "q2 = ax[2].quiver(P[:,0],P[:,1],N[:,0],N[:,1])\n",
    "ax[2].set_title('Probability of being inside')\n",
    "divider = make_axes_locatable(ax[2])\n",
    "cax = divider.append_axes('right', size='5%', pad=0.05)\n",
    "fig.colorbar(m2, cax=cax, orientation='vertical')\n",
    "plt.show()\n"
   ]
  }
 ],
 "metadata": {
  "kernelspec": {
   "display_name": "research",
   "language": "python",
   "name": "python3"
  },
  "language_info": {
   "codemirror_mode": {
    "name": "ipython",
    "version": 3
   },
   "file_extension": ".py",
   "mimetype": "text/x-python",
   "name": "python",
   "nbconvert_exporter": "python",
   "pygments_lexer": "ipython3",
   "version": "0.0.0"
  }
 },
 "nbformat": 4,
 "nbformat_minor": 2
}
