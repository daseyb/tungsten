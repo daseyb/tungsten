{
 "cells": [
  {
   "cell_type": "code",
   "execution_count": 183,
   "metadata": {},
   "outputs": [
    {
     "name": "stdout",
     "output_type": "stream",
     "text": [
      "[ 1.18411888e+01  6.88245719e-01  4.16390093e-01 -6.79100331e-02\n",
      "  6.63431253e-02  7.11738095e-02 -2.21090420e-03 -3.11399759e-01\n",
      "  9.67794142e-01  4.58744654e+00  1.46360895e-05  5.70586492e-01\n",
      " -3.03660408e+00  1.02345875e+00 -3.88146470e-01  4.88368799e-04\n",
      "  1.35752584e+00  6.95797921e-05  9.52925787e-03  1.60460983e-01\n",
      "  3.21735366e-04  2.68660508e+00 -2.42851993e+00  7.07106781e+00\n",
      "  1.76776695e+00  0.00000000e+00]\n"
     ]
    }
   ],
   "source": [
    "%matplotlib qt\n",
    "import matplotlib.pyplot as plt\n",
    "import numpy as np\n",
    "from scipy.spatial import ConvexHull\n",
    "\n",
    "ax = plt.figure().add_subplot(projection='3d')\n",
    "\n",
    "input_range = (-10, 10)\n",
    "\n",
    "base = \"testing/weight-space-affine/rq/aniso=[1.0000,1.0000,1.0000]-s=10.000-l=1.000-a=0.100/\"\n",
    "\n",
    "aff = np.reshape(np.fromfile(base+\"result.bin\", dtype=np.float64), (-1))\n",
    "\n",
    "bounds = np.reshape(np.fromfile(base+\"bounds.bin\", dtype=np.float64), (-1))\n",
    "\n",
    "center = [0, 0]\n",
    "radius = 0.361633\n",
    "\n",
    "freexs, freeys = np.meshgrid(np.linspace(-radius,+radius,2),np.linspace(-radius,+radius,2))\n",
    "\n",
    "ax.plot_surface(freexs+center[0], freeys+center[1], np.zeros_like(freexs), alpha=0.5,linewidth=0, color=\"orange\",zorder=15)\n",
    "\n",
    "vals = np.fromfile(base+\"samples.bin\", dtype=np.float64)\n",
    "res = int(np.sqrt(vals.shape[0]))\n",
    "vals = np.reshape(vals, (res,res))\n",
    "\n",
    "x = np.linspace(*input_range, vals.shape[0])\n",
    "y = np.linspace(*input_range, vals.shape[1])\n",
    "xs, ys = np.meshgrid(x,y)\n",
    "\n",
    "ax.plot_surface(xs, ys, vals,linewidth=0)\n",
    "\n",
    "print(aff)\n",
    "\n",
    "es = np.random.uniform(-1,1,size=(aff.shape[0]-1, 1000000))\n",
    "\n",
    "x = 0 + 10 * es[0]\n",
    "y = 0 + 10 * es[1]\n",
    "z = np.sum(aff[1:,None]*es, axis=0) + aff[0]\n",
    "\n",
    "try:\n",
    "    z += np.random.uniform(-0.01, 0.01, size=z.shape)\n",
    "    hull = ConvexHull(np.stack((x,y,z),axis=-1))\n",
    "except:\n",
    "    z += np.random.uniform(-0.01, 0.01, size=z.shape)\n",
    "    hull = ConvexHull(np.stack((x,y,z),axis=-1))\n",
    "\n",
    "#ax.scatter(x,y,z,alpha=0.01)\n",
    "\n",
    "\n",
    "for b in bounds:\n",
    "    ax.plot_surface(xs, ys, np.ones_like(xs) * b, alpha=0.5,linewidth=0)\n",
    "\n",
    "ax.set_xlabel(\"$p_x$\")\n",
    "ax.set_ylabel(\"$p_y$\")\n",
    "ax.set_zlabel(\"$f(p)$\")\n",
    "\n",
    "for simplex in hull.simplices:\n",
    "     ax.plot(x[simplex], y[simplex], z[simplex], 'k-', zorder=10, alpha=0.3)\n",
    "\n",
    "# plt.hlines([-0.0398505, 0.806943], *input_range, linestyles=\"--\", color=\"red\")\n"
   ]
  },
  {
   "cell_type": "code",
   "execution_count": null,
   "metadata": {},
   "outputs": [],
   "source": []
  }
 ],
 "metadata": {
  "kernelspec": {
   "display_name": "research",
   "language": "python",
   "name": "python3"
  },
  "language_info": {
   "codemirror_mode": {
    "name": "ipython",
    "version": 3
   },
   "file_extension": ".py",
   "mimetype": "text/x-python",
   "name": "python",
   "nbconvert_exporter": "python",
   "pygments_lexer": "ipython3",
   "version": "3.10.12"
  },
  "orig_nbformat": 4
 },
 "nbformat": 4,
 "nbformat_minor": 2
}
