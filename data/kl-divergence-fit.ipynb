{
 "cells": [
  {
   "cell_type": "code",
   "execution_count": 30,
   "metadata": {},
   "outputs": [
    {
     "data": {
      "image/png": "[encoded data removed]",
      "text/plain": [
       "<Figure size 150x150 with 1 Axes>"
      ]
     },
     "metadata": {},
     "output_type": "display_data"
    }
   ],
   "source": [
    "import numpy as np\n",
    "import matplotlib.pyplot as plt\n",
    "\n",
    "with plt.style.context(\"seaborn-v0_8-dark\"):\n",
    "    params = {'text.usetex' : True,\n",
    "            'font.size' : 7,\n",
    "            'font.family' : 'Linux Libertine'}\n",
    "    plt.rcParams.update(params)\n",
    "    plt.rc('axes', titlesize=7)     # fontsize of the axes title\n",
    "\n",
    "    sa = np.random.normal(0, 2, 10000)\n",
    "    sb = np.random.normal(0, 10, 10000)\n",
    "\n",
    "    s = np.minimum(sa, sb)\n",
    "\n",
    "    fig, axs = plt.subplots(1,1, figsize=(1.5,1.5))\n",
    "\n",
    "    axs = np.atleast_1d(axs)\n",
    "\n",
    "    axs[0].hist(s, bins=50, density=True, label=\"CSG dist. (union)\")\n",
    "\n",
    "    m = np.mean(s)\n",
    "    v = np.std(s)\n",
    "\n",
    "    sf = np.random.normal(m, v, 10000)\n",
    "    axs[0].hist(sf, bins=50, density=True, alpha=0.5, label=\"best Gaussian fit\")\n",
    "    axs[0].legend()\n",
    "    axs[0].set_yticks([])\n",
    "    axs[0].grid()\n",
    "\n",
    "    fig.tight_layout()\n",
    "\n",
    "    plt.savefig(\"figures/gaussian-min.pdf\", bbox_inches='tight',pad_inches = 0, dpi = 300) \n"
   ]
  }
 ],
 "metadata": {
  "kernelspec": {
   "display_name": "research",
   "language": "python",
   "name": "python3"
  },
  "language_info": {
   "codemirror_mode": {
    "name": "ipython",
    "version": 3
   },
   "file_extension": ".py",
   "mimetype": "text/x-python",
   "name": "python",
   "nbconvert_exporter": "python",
   "pygments_lexer": "ipython3",
   "version": "0.0.0"
  }
 },
 "nbformat": 4,
 "nbformat_minor": 2
}
