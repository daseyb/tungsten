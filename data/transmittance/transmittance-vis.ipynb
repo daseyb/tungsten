{
 "cells": [
  {
   "cell_type": "code",
   "execution_count": 22,
   "metadata": {},
   "outputs": [
    {
     "data": {
      "image/png": "[encoded data removed]",
      "text/plain": [
       "<Figure size 350x200 with 1 Axes>"
      ]
     },
     "metadata": {},
     "output_type": "display_data"
    }
   ],
   "source": [
    "import numpy as np\n",
    "import imageio\n",
    "import sys\n",
    "import glob\n",
    "import os\n",
    "from tqdm import tqdm\n",
    "import matplotlib.pyplot as plt\n",
    "imageio.plugins.freeimage.download()\n",
    "import scipy.stats as st\n",
    "from mpl_toolkits.axes_grid1 import make_axes_locatable\n",
    "from scipy.stats import gaussian_kde\n",
    "\n",
    "with plt.style.context(\"seaborn-v0_8-dark\"):\n",
    "    params = {'text.usetex' : True,\n",
    "            'font.size' : 7,\n",
    "            'font.family' : 'Linux Libertine'}\n",
    "    plt.rcParams.update(params)\n",
    "\n",
    "    fig, ax = plt.subplots(figsize=(3.5, 2))\n",
    "    ax.set_yscale(\"log\")\n",
    "    ax.set_xlim(0, 13)\n",
    "\n",
    "    t = np.linspace(0, 6, 100)\n",
    "    dt = t[1]-t[0]\n",
    "\n",
    "    for file in glob.glob(\"*/*l=1.0*-pp.bin\"):\n",
    "        ts = np.reshape(np.fromfile(file, dtype=np.float32), (-1))\n",
    "\n",
    "        #ts = ts[ts < 10]\n",
    "        density = gaussian_kde(ts)\n",
    "\n",
    "        fp = density(t)\n",
    "        #ax.plot(t, fp)\n",
    "        ax.hist(ts, histtype=\"step\", bins=40, density=True, label=file[:2])\n",
    "\n",
    "        # ff = 1-np.cumsum(fp)*dt\n",
    "\n",
    "        # L0 = 1\n",
    "        # L2 = 1\n",
    "        # u = 0\n",
    "\n",
    "        # collDensity = np.sqrt(L2) / np.pi\n",
    "\n",
    "        # num_mfp = np.sum(t*fp)*dt\n",
    "        # plt.vlines(num_mfp, 0, 1, color=\"green\")\n",
    "        # plt.vlines(collDensity, 0, 1, color=\"red\")\n",
    "\n",
    "        # plt.plot(t, ff)\n",
    "\n",
    "        # plt.plot(t, np.exp(-t/num_mfp))\n",
    "\n",
    "        # plt.title(file)\n",
    "        # plt.show()\n",
    "    ax.legend()\n"
   ]
  }
 ],
 "metadata": {
  "kernelspec": {
   "display_name": "research",
   "language": "python",
   "name": "python3"
  },
  "language_info": {
   "codemirror_mode": {
    "name": "ipython",
    "version": 3
   },
   "file_extension": ".py",
   "mimetype": "text/x-python",
   "name": "python",
   "nbconvert_exporter": "python",
   "pygments_lexer": "ipython3",
   "version": "3.8.8"
  },
  "orig_nbformat": 4
 },
 "nbformat": 4,
 "nbformat_minor": 2
}
