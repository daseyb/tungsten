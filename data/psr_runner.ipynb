{
  "cells": [
    {
      "cell_type": "markdown",
      "metadata": {
        "id": "ayX2oC55b2sN"
      },
      "source": [
        "# Tutorial: (Stochastic) Poisson Surface Reconstruction\n",
        "\n",
        "This notebook will show how to use (Stochastic) Poisson Surface Reconstruction [[1](https://hhoppe.com/poissonrecon.pdf),[2](https://www.dgp.toronto.edu/projects/stochastic-psr/)] to reconstruct a surface from an oriented point cloud using Python and `gpytoolbox` [[3](https://gpytoolbox.org)].  \n",
        "\n",
        "All prerequisites can be installed with pip and conda.\n",
        "<!-- ```bash\n",
        "pip install gpytoolbox=0.0.3\n",
        "pip install numpy\n",
        "pip install scipy\n",
        "pip install matplotlib\n",
        "``` -->"
      ]
    },
    {
      "cell_type": "markdown",
      "metadata": {
        "id": "leWUrQJqu9Nz"
      },
      "source": [
        "### Prerequisites\n",
        "\n",
        "We can install all prerequisites with pip"
      ]
    },
    {
      "cell_type": "markdown",
      "metadata": {
        "id": "0qFLWm5kb2sT"
      },
      "source": [
        "## Poisson Surface Reconstruction [[1](https://hhoppe.com/poissonrecon.pdf)]\n",
        "\n",
        "The input to this algorithm is an oriented point cloud: a set of tuples $\\{(p_i,\\vec{n}_i)\\}_{i=1}^n$ where $p_i\\in\\mathbb{R}^d$ are points on an object's surface and $\\vec{n}_i\\in\\mathbb{R}^d$ are the corresponding surface normals at each point. In `gpytoolbox`, we will store this type of data in two matrices $\\mathbf{P},\\mathbf{N}\\in\\mathbb{R}^{n\\times d}$, such that the i-th row of $\\mathbf{P}$ contains the coordinates $p_i$ and the i-th row of $\\mathbf{N}$ contains the coordinates of $\\vec{n}_i$. Let's begin by generating and plotting a simple example point cloud using basic `numpy` and `matplotlib`."
      ]
    },
    {
      "cell_type": "markdown",
      "metadata": {
        "id": "jMZtRkrxb2sZ"
      },
      "source": [
        "## Stochastic Poisson Surface Reconstruction [[2](https://www.dgp.toronto.edu/projects/stochastic-psr/)]\n",
        "Poisson Surface Reconstruction outputs a scalar function and, through it, a possible reconstructed surface. However, it ignores a key fact: surface reconstruction is, fundamentally, an under-determined problem, and there are infinitely many possible reconstructed surfaces. *Stochastic* Poisson Surface Reconstruction formalizes this intuition by instead of computing a function $f:\\mathbb{R}^d\\rightarrow \\mathbb{R}$, modeling it as a Gaussian distribution\n",
        "$$f(x)\\sim \\mathcal{N}(\\mu(x),\\sigma(x))$$\n",
        "and computing the functions $\\mu:\\mathbb{R}^d\\rightarrow \\mathbb{R}$ and $\\sigma:\\mathbb{R}^d\\rightarrow \\mathbb{R}^+$. In `gpytoolbox`, it's as easy as including the `stochastic=True` flag in our call to `poisson_surface_reconstruction`:\n"
      ]
    },
    {
      "cell_type": "markdown",
      "metadata": {
        "id": "8tx7Gf8xb2sc"
      },
      "source": [
        "While we are obtaining the correct values for $v(x)$ and $s(x)$ at the grid points, it is a bit disappointing that they look so pixelated when plotting. This is specially clear in the last example, where the surface probability is at times so thinly supported that its support falls below the grid spacing and gives the appearance that there is no surface when plotted. Using `gpytoolbox`, we can actually plot the values of these statistical queries on a finer grid:"
      ]
    },
    {
      "cell_type": "markdown",
      "metadata": {
        "id": "GdtmPySmb2se"
      },
      "source": [
        "### Subspace reduction\n",
        "Using a larger grid is a much clearer way of visualizing the computed statistical quantities that have features below the scale of grid resolution. Of course, another option would be to carry out the whole computation on a larger grid, but this will have a larger associated computational cost. When this is the case (this is especially necessary in 3D applications), we can use a space reduction technique (see Section 4.2. in [[2](https://www.dgp.toronto.edu/projects/stochastic-psr/stochastic-psr-lr.pdf)]) to reduce the computational cost. In the `gpytoolbox` implementation, this is done by adding a `solve_subspace_dim` argument. The higher the value, the lower the approximation error will be at a higher computational cost. In practice, values between 1,000 and 10,000 are reasonable."
      ]
    },
    {
      "cell_type": "markdown",
      "metadata": {
        "id": "AdWphvZ6cNOR"
      },
      "source": [
        "### 3D examples\n",
        "(Stochastic) Poisson Surface Reconstruction is dimension agnostic, and `gpytoolbox`'s implementation also allows us to use it to compute surfaces in three dimensions. However, the functions $f, \\mu, \\sigma$ are harder to visualize in this case. One slightly hacky way of doing it is to use the tetrahedral mesh visualizer in `polyscope` [[4](https://polyscope.run/py/)].\n"
      ]
    },
    {
      "cell_type": "code",
      "execution_count": 23,
      "metadata": {
        "id": "OjHuhvsmcJQ_"
      },
      "outputs": [
        {
          "name": "stdout",
          "output_type": "stream",
          "text": [
            "(1303930, 3) (1599403, 3)\n",
            "(5000, 3) (5000, 3)\n",
            "[64 64 64] [-3.48755583 -1.22031066 -3.70824749] [0.10965757 0.11390315 0.11056473]\n"
          ]
        }
      ],
      "source": [
        "# Generate a point cloud\n",
        "from gpytoolbox import read_mesh, per_face_normals, random_points_on_mesh, poisson_surface_reconstruction\n",
        "import numpy as np\n",
        "\n",
        "v,f = read_mesh(\"example-scenes/gp-tree/tree.obj\")\n",
        "print(v.shape,f.shape)\n",
        "n = 5000\n",
        "P,I,_ = random_points_on_mesh(v,f,n,return_indices=True)\n",
        "N = per_face_normals(v,f)[I,:]\n",
        "\n",
        "print(P.shape,N.shape)\n",
        "\n",
        "minp = P.min(axis=0)\n",
        "maxp = P.max(axis=0)\n",
        "center = (minp + maxp) * 0.5\n",
        "extends = (maxp - minp) * 0.5\n",
        "\n",
        "gs = 1*np.array([64,64,64]) #44\n",
        "# Call stochastic PSR\n",
        "corner = center - extends*1.5\n",
        "h = extends*3/gs[0]\n",
        "\n",
        "print(gs, corner, h)\n",
        "scalar_mean, scalar_var, grid_vertices = poisson_surface_reconstruction(P,N,gs=gs,corner=corner,h=h,solve_subspace_dim=1000,stochastic=True)\n",
        "\n"
      ]
    },
    {
      "cell_type": "code",
      "execution_count": 22,
      "metadata": {
        "id": "LBuHyMHicQS4"
      },
      "outputs": [
        {
          "name": "stdout",
          "output_type": "stream",
          "text": [
            "(32768, 3)\n"
          ]
        }
      ],
      "source": [
        "# There's no integration with Jupyter notebooks, but here's what you could run to visualize the result in polyscope:\n",
        "\n",
        "####\n",
        "from gpytoolbox import regular_cube_mesh\n",
        "import polyscope as ps\n",
        "tet_verts, tets = regular_cube_mesh(gs[0],type='hex')\n",
        "tet_verts = tet_verts[:,(2,0,1)]\n",
        "tet_verts = tet_verts * h * gs[0] + corner\n",
        "print(tet_verts.shape)\n",
        "ps.init()\n",
        "ps_vol = ps.register_volume_mesh(\"test volume mesh\", tet_verts, hexes=tets, enabled=False)\n",
        "ps_vol.add_scalar_quantity(\"mean\", scalar_mean)\n",
        "ps_vol.add_scalar_quantity(\"sigma\", scalar_var)\n",
        "sample_points = ps.register_point_cloud(\"sample points\", P)\n",
        "sample_points.add_vector_quantity(\"sample normals\", N, enabled=True)\n",
        "ps.show()\n",
        "####"
      ]
    },
    {
      "cell_type": "code",
      "execution_count": 2,
      "metadata": {
        "id": "CrqXtDBIcV3M"
      },
      "outputs": [],
      "source": [
        "# The relevance of the variance is easier to see if we make the surface incomplete\n",
        "N = N[P[:,0] < 0,:]\n",
        "P = P[P[:,0] < 0,:]\n",
        "scalar_mean, scalar_var, grid_vertices = poisson_surface_reconstruction(P,N,gs=gs,corner=corner,h=h,solve_subspace_dim=1000,stochastic=True)\n",
        "\n"
      ]
    },
    {
      "cell_type": "code",
      "execution_count": 3,
      "metadata": {},
      "outputs": [
        {
          "name": "stdout",
          "output_type": "stream",
          "text": [
            "(262144,)\n",
            "(262144, 3)\n"
          ]
        }
      ],
      "source": [
        "print(scalar_mean.shape)\n",
        "\n",
        "scalar_mean.tofile(\"testing/spsr/bunny-64-mean.bin\")\n",
        "scalar_var.tofile(\"testing/spsr/bunny-64-var.bin\")\n",
        "\n",
        "grid_vertices = np.array(grid_vertices)\n",
        "print(grid_vertices.transpose().reshape(-1,3).shape)\n",
        "grid_vertices.transpose().reshape(-1,3).tofile(\"testing/spsr/bunny-64-grid_vertices.bin\")"
      ]
    },
    {
      "cell_type": "code",
      "execution_count": 11,
      "metadata": {},
      "outputs": [],
      "source": [
        "# There's no integration with Jupyter notebooks, but here's what you could run to visualize the result in polyscope:\n",
        "\n",
        "####\n",
        "from gpytoolbox import regular_cube_mesh\n",
        "from skimage.measure import marching_cubes\n",
        "\n",
        "import polyscope as ps\n",
        "tet_verts, tets = regular_cube_mesh(gs[0],type='hex')\n",
        "tet_verts = 2.2*tet_verts - 1.1\n",
        "R = np.array([[0.0,0.0,1.0],[0.0,1.0,0.0],[-1.0,0.0,0.0]]) @ np.array([[1.0,0.0,0.0],[0.0,0.0,1.0],[0.0,-1.0,0.0]])\n",
        "tet_verts = tet_verts @ R\n",
        "tet_verts[:,0] = - tet_verts[:,0]\n",
        "tet_verts[:,1] = - tet_verts[:,1]\n",
        "ps.init()\n",
        "ps_vol = ps.register_volume_mesh(\"test volume mesh\", tet_verts, hexes=tets, enabled=False)\n",
        "ps_vol.add_scalar_quantity(\"mean\", scalar_mean)\n",
        "ps_vol.add_scalar_quantity(\"sigma\", scalar_var)\n",
        "sample_points = ps.register_point_cloud(\"sample points\", P)\n",
        "sample_points.add_vector_quantity(\"sample normals\", N, enabled=True)\n",
        "\n",
        "verts, faces, normals, values = marching_cubes(np.reshape(scalar_mean,(gs[0],gs[1],gs[2]),order='F'),level=0.0)\n",
        "# skimage's marching cubes outputs a mesh in the [0,gs] interval, so we need to rescale it\n",
        "verts = verts/(gs-1)\n",
        "verts = 2.2*verts - 1.1\n",
        "\n",
        "ps_vol = ps.register_surface_mesh(\"mean_mesb\", verts, faces=faces, enabled=False)\n",
        "ps_mesh = ps.register_surface_mesh(\"original_mesh\", v, faces=f, enabled=True)\n",
        "\n",
        "ps.show()\n",
        "####"
      ]
    },
    {
      "cell_type": "markdown",
      "metadata": {
        "id": "4vxEFIlQb2sg"
      },
      "source": [
        "# References\n",
        "[1] \"[Poisson Surface Reconstruction](https://hhoppe.com/poissonrecon.pdf)\" by *Michael Kazhdan, Matthew Bolitho and Hugues Hoppe*, 2006.  \n",
        "\n",
        "[2] \"[Stochastic Poisson Surface Reconstruction](https://www.dgp.toronto.edu/projects/stochastic-psr/)\" by *Silvia Sellán and Alec Jacobson*, 2022.  \n",
        "\n",
        "[3] \"[Gpytoolbox: A Python Geometry Processing library](https://gpytoolbox.org)\" by *Silvia Sellán and Oded Stein*, 2022."
      ]
    },
    {
      "cell_type": "markdown",
      "metadata": {
        "id": "Amhu8G-sb2sg"
      },
      "source": []
    }
  ],
  "metadata": {
    "colab": {
      "collapsed_sections": [
        "leWUrQJqu9Nz"
      ],
      "provenance": []
    },
    "kernelspec": {
      "display_name": "gpytoolbox-dev",
      "language": "python",
      "name": "python3"
    },
    "language_info": {
      "codemirror_mode": {
        "name": "ipython",
        "version": 3
      },
      "file_extension": ".py",
      "mimetype": "text/x-python",
      "name": "python",
      "nbconvert_exporter": "python",
      "pygments_lexer": "ipython3",
      "version": "3.10.12"
    },
    "orig_nbformat": 4,
    "vscode": {
      "interpreter": {
        "hash": "846821ccc68f0567b8a067f16adbc71255b72fa1ff6c8ab7b3198c033bbcb83d"
      }
    },
    "widgets": {
      "application/vnd.jupyter.widget-state+json": {
        "00b55283a7424013a14f5c58fb910300": {
          "model_module": "jupyter-threejs",
          "model_module_version": "^2.0.0",
          "model_name": "RendererModel",
          "state": {
            "_alpha": false,
            "_antialias": true,
            "_dom_classes": [],
            "_height": 600,
            "_model_module": "jupyter-threejs",
            "_model_module_version": "^2.0.0",
            "_model_name": "RendererModel",
            "_view_count": null,
            "_view_module": "jupyter-threejs",
            "_view_module_version": "^2.0.0",
            "_view_name": "RendererView",
            "_width": 600,
            "autoClear": true,
            "autoClearColor": true,
            "autoClearDepth": true,
            "autoClearStencil": true,
            "background": "black",
            "background_opacity": 1,
            "camera": "IPY_MODEL_171f2a9579974b4a95f36fd54e9d3490",
            "clearColor": "#000000",
            "clearOpacity": 1,
            "clippingPlanes": [],
            "controls": [
              "IPY_MODEL_31c47e2ca4e54717be0b416728eb6fa8"
            ],
            "gammaFactor": 2,
            "gammaInput": false,
            "gammaOutput": false,
            "layout": "IPY_MODEL_c1abee471d984c6fa36bf3c4aca1f909",
            "localClippingEnabled": false,
            "maxMorphNormals": 4,
            "maxMorphTargets": 8,
            "physicallyCorrectLights": false,
            "scene": "IPY_MODEL_4659715d028f4482a5cf7fa0eb664ed0",
            "shadowMap": "IPY_MODEL_f4450abb8dd24bd5899467c6c75e6b85",
            "sortObject": true,
            "toneMapping": "LinearToneMapping",
            "toneMappingExposure": 1,
            "toneMappingWhitePoint": 1
          }
        },
        "0af302634f3644a099bd3e8e800325e8": {
          "model_module": "jupyter-threejs",
          "model_module_version": "^2.0.0",
          "model_name": "RendererModel",
          "state": {
            "_alpha": false,
            "_antialias": true,
            "_dom_classes": [],
            "_height": 600,
            "_model_module": "jupyter-threejs",
            "_model_module_version": "^2.0.0",
            "_model_name": "RendererModel",
            "_view_count": null,
            "_view_module": "jupyter-threejs",
            "_view_module_version": "^2.0.0",
            "_view_name": "RendererView",
            "_width": 600,
            "autoClear": true,
            "autoClearColor": true,
            "autoClearDepth": true,
            "autoClearStencil": true,
            "background": "black",
            "background_opacity": 1,
            "camera": "IPY_MODEL_aa34c8a5e8b44da084abc7e1b194a496",
            "clearColor": "#000000",
            "clearOpacity": 1,
            "clippingPlanes": [],
            "controls": [
              "IPY_MODEL_16da242f0b0a40129ab6849292512c05"
            ],
            "gammaFactor": 2,
            "gammaInput": false,
            "gammaOutput": false,
            "layout": "IPY_MODEL_3ce42d9391444564b15726aad64d71ef",
            "localClippingEnabled": false,
            "maxMorphNormals": 4,
            "maxMorphTargets": 8,
            "physicallyCorrectLights": false,
            "scene": "IPY_MODEL_e40fd1f0b4e341468384cd95c1c311de",
            "shadowMap": "IPY_MODEL_e5148caaf02944fea1e6d2ab5f143114",
            "sortObject": true,
            "toneMapping": "LinearToneMapping",
            "toneMappingExposure": 1,
            "toneMappingWhitePoint": 1
          }
        },
        "bfd0baf311134e508c92d84427730996": {
          "model_module": "jupyter-threejs",
          "model_module_version": "^2.0.0",
          "model_name": "RendererModel",
          "state": {
            "_alpha": false,
            "_antialias": true,
            "_dom_classes": [],
            "_height": 600,
            "_model_module": "jupyter-threejs",
            "_model_module_version": "^2.0.0",
            "_model_name": "RendererModel",
            "_view_count": null,
            "_view_module": "jupyter-threejs",
            "_view_module_version": "^2.0.0",
            "_view_name": "RendererView",
            "_width": 600,
            "autoClear": true,
            "autoClearColor": true,
            "autoClearDepth": true,
            "autoClearStencil": true,
            "background": "black",
            "background_opacity": 1,
            "camera": "IPY_MODEL_4b4f6a22fe124858b69702bfc83bf2b9",
            "clearColor": "#000000",
            "clearOpacity": 1,
            "clippingPlanes": [],
            "controls": [
              "IPY_MODEL_08fee1df50fb4205966a7701e093cfae"
            ],
            "gammaFactor": 2,
            "gammaInput": false,
            "gammaOutput": false,
            "layout": "IPY_MODEL_e8db545d22cf42b99d5a67c7804f122b",
            "localClippingEnabled": false,
            "maxMorphNormals": 4,
            "maxMorphTargets": 8,
            "physicallyCorrectLights": false,
            "scene": "IPY_MODEL_205b147af18c44e495b4527dbc278b63",
            "shadowMap": "IPY_MODEL_d9a02fbadbb44a358b44a2bae8d24d54",
            "sortObject": true,
            "toneMapping": "LinearToneMapping",
            "toneMappingExposure": 1,
            "toneMappingWhitePoint": 1
          }
        }
      }
    }
  },
  "nbformat": 4,
  "nbformat_minor": 0
}
